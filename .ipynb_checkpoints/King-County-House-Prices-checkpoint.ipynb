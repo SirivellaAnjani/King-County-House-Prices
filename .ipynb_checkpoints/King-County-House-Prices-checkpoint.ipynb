{
 "cells": [
  {
   "cell_type": "markdown",
   "id": "0b03ec4e",
   "metadata": {},
   "source": [
    "<!--Palette\n",
    "{\"Night\":\"101010\",\n",
    "    \"Non Photo blue\":\"93DEE4\",\n",
    "    \"Tiffany Blue\":\"78D0DA\",\n",
    "    \"Sunglow\":\"FFC857\"\n",
    "\"White\":\"FFFFFF\",\n",
    "    \"Midnight Green\":\"16474B\",\n",
    "\"Alice Blue\":\"DDE8EA\"\n",
    "} -->\n",
    "\n",
    "![House Prices Prediction](img/blue.png)"
   ]
  },
  {
   "cell_type": "markdown",
   "id": "93fac775",
   "metadata": {},
   "source": [
    "<div class=\"my-h1\" style=\"background-color:#FFFFFF\">Aim</div>\n",
    "<div class=\"my-body\">\n",
    "<body>The purpose of this notebook is to create a machine learning model that can accurately predict the sale price of houses in King County, Washington. \n",
    "    \n",
    "<br>In order to achieve this goal, regression techniques will be implemented to analyze a dataset containing house sale prices between May 2014 and May 2015. Additionally, k-cross fold validation will be utilized to ensure that the model produces reliable and accurate predictions. By developing a machine learning model capable of accurately predicting house sale prices, this project aims to provide valuable insights to home buyers and sellers in the King County area, and also serves as a useful tool for real estate professionals</body></div>"
   ]
  },
  {
   "cell_type": "markdown",
   "id": "43c63efa",
   "metadata": {},
   "source": [
    "<div class=\"my-h1\">Table of Contents</div>  \n",
    "\n",
    "<div class='toc my-body'>\n",
    "  <ol class=\"toc-list\" role=\"list\">\n",
    "    <li>\n",
    "      <a href=\"#chapter1\" class=\"title\">\n",
    "        Data Description\n",
    "      </a>\n",
    "    </li>      \n",
    "    <li>\n",
    "      <a href=\"#chapter2\" class=\"title end-list\">\n",
    "        Exploratory Data Analysis (EDA)\n",
    "      </a>\n",
    "      <ol role=\"list\" class=\"toc-list\">\n",
    "        2.1 <a href=\"#chapter2.1\" class=\"title\">\n",
    "          Load Data\n",
    "        </a>\n",
    "      </ol>\n",
    "        <ol role=\"list\">\n",
    "        2.2 <a href=\"#chapter2.2\" class=\"title\">\n",
    "          Univariate Non-graphical EDA \n",
    "        </a>\n",
    "      </ol>\n",
    "      <ol role=\"list\" >\n",
    "        2.3 <a href=\"#chapter2.3\" class=\"title\">\n",
    "          Univariate Graphical EDA\n",
    "        </a>\n",
    "      </ol>\n",
    "        <ol role=\"list\" >\n",
    "        2.4 <a href=\"#chapter2.4\" class=\"title\">\n",
    "          Multivariate Non-graphical EDA\n",
    "        </a>\n",
    "      </ol>\n",
    "      <ol role=\"list\" >\n",
    "        2.5 <a href=\"#chapter2.5\" class=\"title\">\n",
    "          Multivariate Graphical EDA\n",
    "        </a>\n",
    "      </ol>\n",
    "    </li>      \n",
    "    <li>\n",
    "      <a href=\"#chapter3\" class=\"title end-list\">\n",
    "        Data Preprocessing\n",
    "      </a>\n",
    "      <ol role=\"list\" class=\"toc-list\">\n",
    "        3.1 <a href=\"#chapter3.1\" class=\"title\">\n",
    "          Handling Missing Values\n",
    "        </a>\n",
    "      </ol>\n",
    "        <ol role=\"list\">\n",
    "        3.2 <a href=\"#chapter3.2\" class=\"title\">\n",
    "          Handling Categorical Values \n",
    "        </a>\n",
    "      </ol>\n",
    "      <ol role=\"list\" >\n",
    "        3.3 <a href=\"#chapter3.3\" class=\"title\">\n",
    "          Feature Scaling\n",
    "        </a>\n",
    "      </ol>\n",
    "    </li>\n",
    "  </ol>\n",
    "</div>"
   ]
  },
  {
   "cell_type": "markdown",
   "id": "165d349f",
   "metadata": {},
   "source": [
    "<div id=\"chapter1\" class=\"my-h1\">1. Data Description</div>"
   ]
  },
  {
   "cell_type": "markdown",
   "id": "23865737",
   "metadata": {},
   "source": [
    "<div class=\"my-body\">There are 21 variables available for the prediction model to leverage. Here is a brief description of each variable:\n",
    "</div>\n",
    "<table class=\"tg\">\n",
    "  <tbody>\n",
    "    <thead style=\"background-color:#C3EAF0;\">\n",
    "      <tr>\n",
    "        <th class=\"tg-0lax\">Variable</th>\n",
    "        <th class=\"tg-0lax\">Description</th>\n",
    "      </tr>\n",
    "    </thead>\n",
    "    <tr>\n",
    "      <td class=\"tg-0lax\">id</td>\n",
    "      <td class=\"tg-0lax\">Unique Identifier of each house</td>\n",
    "    </tr>\n",
    "    <tr>\n",
    "      <td class=\"tg-0lax\">date</td>\n",
    "      <td class=\"tg-0lax\">Date house was sold</td>\n",
    "    </tr>\n",
    "    <tr>\n",
    "        <td class=\"tg-0lax\"><b>price</b></td>\n",
    "      <td class=\"tg-0lax\">Sold price in Dollars;<br>Target for prediction</td>\n",
    "    </tr>\n",
    "    <tr>\n",
    "      <td class=\"tg-0lax\">bedrooms</td>\n",
    "      <td class=\"tg-0lax\">Number of bedrooms</td>\n",
    "    </tr>\n",
    "    <tr>\n",
    "      <td class=\"tg-0lax\">bathrooms</td>\n",
    "      <td class=\"tg-0lax\">Number of bathrooms</td>\n",
    "    </tr>\n",
    "    <tr>\n",
    "      <td class=\"tg-0lax\">sqft_living</td>\n",
    "      <td class=\"tg-0lax\">Square footage of house</td>\n",
    "    </tr>\n",
    "    <tr>\n",
    "      <td class=\"tg-0lax\">sqft_lot</td>\n",
    "      <td class=\"tg-0lax\">Square footage of lot</td>\n",
    "    </tr>\n",
    "    <tr>\n",
    "      <td class=\"tg-0lax\">floors</td>\n",
    "      <td class=\"tg-0lax\">Number of floors</td>\n",
    "    </tr>\n",
    "    <tr>\n",
    "      <td class=\"tg-0lax\">waterfront</td>\n",
    "      <td class=\"tg-0lax\">Is this house waterfront property?<br>1 = Yes, 0 =  No</td>\n",
    "    </tr>\n",
    "    <tr>\n",
    "      <td class=\"tg-0lax\">view</td>\n",
    "      <td class=\"tg-0lax\">Number of times house was viewed by potential buyers</td>\n",
    "    </tr>\n",
    "    <tr>\n",
    "      <td class=\"tg-0lax\">condition</td>\n",
    "      <td class=\"tg-0lax\">Overall condition of the house rated on a scale of 1-5;<br>1 (worst) to 5 (best).</td>\n",
    "    </tr>\n",
    "    <tr>\n",
    "      <td class=\"tg-0lax\">grade</td>\n",
    "      <td class=\"tg-0lax\">Grade given by King County House Inspectors;<br>Higher grade is better</td>\n",
    "    </tr>\n",
    "    <tr>\n",
    "      <td class=\"tg-0lax\">sqft_above</td>\n",
    "      <td class=\"tg-0lax\">Square footage of house apart excluding basement</td>\n",
    "    </tr>\n",
    "    <tr>\n",
    "      <td class=\"tg-0lax\">sqft_basement</td>\n",
    "      <td class=\"tg-0lax\">Square footage of basement</td>\n",
    "    </tr>\n",
    "    <tr>\n",
    "      <td class=\"tg-0lax\">yr_built</td>\n",
    "      <td class=\"tg-0lax\">Built year</td>\n",
    "    </tr>\n",
    "    <tr>\n",
    "      <td class=\"tg-0lax\">yr_renovated</td>\n",
    "      <td class=\"tg-0lax\">Most recent renovation year</td>\n",
    "    </tr>\n",
    "    <tr>\n",
    "      <td class=\"tg-0lax\">zipcode</td>\n",
    "      <td class=\"tg-0lax\">Zipcode of house</td>\n",
    "    </tr>\n",
    "    <tr>\n",
    "      <td class=\"tg-0lax\">lat</td>\n",
    "      <td class=\"tg-0lax\">Latitiude coordinate</td>\n",
    "    </tr>\n",
    "    <tr>\n",
    "      <td class=\"tg-0lax\">long</td>\n",
    "      <td class=\"tg-0lax\">Longitude coordinate</td>\n",
    "    </tr>\n",
    "    <tr>\n",
    "      <td class=\"tg-0lax\">sqft_living15</td>\n",
    "      <td class=\"tg-0lax\">Square footage of house in 2015 (implies renovations)<br>This might or might not have affected the lot size area</td>\n",
    "    </tr>\n",
    "    <tr>\n",
    "      <td class=\"tg-0lax\">sqft_lot15</td>\n",
    "      <td class=\"tg-0lax\">Square footage of lot in 2015 (implies renovations)</td>\n",
    "    </tr>\n",
    "  </tbody>\n",
    "</table>\n",
    "</div><br><br>"
   ]
  },
  {
   "cell_type": "markdown",
   "id": "0f6736c9",
   "metadata": {},
   "source": [
    "<div id=\"chapter2\" class=\"my-h1\">2. Exploratory Data Analysis</div>"
   ]
  },
  {
   "cell_type": "markdown",
   "id": "d683f2cd",
   "metadata": {},
   "source": [
    "<div class=\"my-body\">\n",
    "<b>TYPES OF EXPLORATORY DATA ANALYSIS:</b>\n",
    "<ol>\n",
    "<li>Univariate Non-graphical</li>\n",
    "<li>Univariate graphical</li>\n",
    "<li>Multivariate Non-graphical</li>\n",
    "<li>Multivariate graphical</li>\n",
    "</ol>\n",
    "</div>  \n",
    "<div class=\"my-body\">    \n",
    "<b>1. Univariate Non-graphical</b><br>Involves analyzing a single variable. Aims to understand the sample data distribution, observe population characteristics, and detect outliers. This can provide insights into the variable's range and frequency of occurrence. When analyzing categorical variables, the most effective univariate non-graphical techniques involve tabulating frequencies and calculating the fraction or percentage of data within each category. The characteristics of population distribution of a numeric variable include:\n",
    "\n",
    "<ul>\n",
    "    <li><span style=\"font-weight:400\">Central tendency:</span> The central tendency refers to the typical or middle values of a distribution. The mean, median, and mode are commonly used measures of central tendency, with the mean being the most common. In cases of skewed distribution or concern about outliers, the median may be preferred.</li>\n",
    "<li><span style=\"font-weight:400\">Spread:</span> Spread signifies the distance from the center where the data values are likely to be found. Variance, standard deviation, and interquartile range are commonly used.</li>\n",
    "<li><span style=\"font-weight:400\">Skewness and kurtosis:</span> Skewness measures asymmetry, while kurtosis measures the \"peakedness\" of a distribution relative to a normal distribution.</li>\n",
    "</ul>\n",
    "    \n",
    "\n",
    "<b>2. Univariate graphical</b><br>\n",
    "Although non-graphical methods provide a quantitative and objective approach to analyzing data, they may not present a complete picture. Therefore, graphical methods, which require a degree of subjective analysis, are also necessary. Some univariate graphics are:\n",
    "\n",
    "<ul>\n",
    "<li><span style=\"font-weight:400\">Histogram:</span> The histogram is the most basic graph, representing the frequency (count) or proportion (count/total count) of cases for a range of values using bars that run vertically with the count (or proportion) axis running vertically.  It's the only technique that is useful for categorical data as it is essentially a barplot of the data tabulation. They provide information on central tendency, spread, modality, shape, and outliers, making them an efficient tool for quickly understanding data.</li>\n",
    "<li><span style=\"font-weight:400\">Boxplots:</span> Another very useful univariate graphical technique is that the boxplot. Boxplots are excellent at presenting information about central tendency and show robust measures of location and spread also as providing information about symmetry and outliers, although they will be misleading about aspects like multimodality.</li>\n",
    "<li><span style=\"font-weight:400\">Quantile-quantile plots:</span> The QQ plot compares a sample to a theoretical distribution. It detects skewness, kurtosis, and bimodality.</li>\n",
    "</ul>\n",
    "    \n",
    "<b>3. Multivariate Non-graphical</b><br>\n",
    "Multivariate non-graphical EDA technique is usually wont to show the connection between two or more variables within the sort of either cross-tabulation or statistics.  \n",
    "For categorical data, an extension of tabulation called cross-tabulation is extremely useful. For 2 variables, cross-tabulation is preferred by making a two-way table with column headings that match the amount of one-variable and row headings that match the amount of the opposite two variables, then filling the counts with all subjects that share an equivalent pair of levels.\n",
    "For each categorical variable and one quantitative variable, we create statistics for quantitative variables separately for every level of the specific variable then compare the statistics across the amount of categorical variable.\n",
    "Comparing the means is an off-the-cuff version of ANOVA and comparing medians may be a robust version of one-way ANOVA.\n",
    "\n",
    "<b>4. Multivariate graphical</b><br>\n",
    "Multivariate graphical data uses graphics to display relationships between two or more sets of knowledge. The sole one used commonly may be a grouped barplot with each group representing one level of 1 of the variables and every bar within a gaggle representing the amount of the opposite variable. Other common sorts of multivariate graphics are:\n",
    "\n",
    "<ul>\n",
    "<li><span style=\"font-weight:400\">Scatterplot:</span> For 2 quantitative variables, the essential graphical EDA technique is that the scatterplot , sohas one variable on the x-axis and one on the y-axis and therefore the point for every case in your dataset.</li>\n",
    "<li><span style=\"font-weight:400\">Run chart:</span> It’s a line graph of data plotted over time.</li>\n",
    "<li><span style=\"font-weight:400\">Heat map:</span> It’s a graphical representation of data where values are depicted by color.</li>\n",
    "<li><span style=\"font-weight:400\">Multivariate chart:</span> It’s a graphical representation of the relationships between factors and response.</li>\n",
    "<li><span style=\"font-weight:400\">Bubble chart:</span> It’s a data visualization that displays multiple circles (bubbles) in two-dimensional plot.</li>\n",
    "</ul>\n",
    "<br>Prior to importing the data, I will import the libraries required for the analysis:</div>"
   ]
  },
  {
   "cell_type": "code",
   "execution_count": null,
   "id": "ced306e6",
   "metadata": {},
   "outputs": [],
   "source": [
    "#  Data Manipulation\n",
    "import numpy as np\n",
    "import pandas as pd\n",
    "\n",
    "# Data Visualization\n",
    "import seaborn as sns\n",
    "import matplotlib.pyplot as plt\n",
    "import plotly.express as px\n",
    "\n",
    "# Data Preprocessing\n",
    "from sklearn.impute import SimpleImputer\n",
    "from sklearn.compose import ColumnTransformer\n",
    "from sklearn.preprocessing import StandardScaler, OneHotEncoder\n",
    "from sklearn.feature_selection import SelectPercentile, chi2\n",
    "\n",
    "# Algorithms\n",
    "from sklearn.model_selection import train_test_split, RandomizedSearchCV\n",
    "from sklearn.ensemble import RandomForestClassifier\n",
    "from sklearn.datasets import make_classification\n",
    "\n",
    "# Evaluation Metrics\n",
    "from sklearn.metrics import accuracy_score, confusion_matrix, roc_auc_score\n",
    "from sklearn.metrics import precision_score, recall_score, f1_score\n",
    "\n",
    "# Visualize Metrics\n",
    "from sklearn.metrics import ConfusionMatrixDisplay\n",
    "from sklearn.metrics import roc_curve\n",
    "from sklearn.metrics import RocCurveDisplay\n",
    "from sklearn.metrics import precision_recall_curve\n",
    "from sklearn.metrics import PrecisionRecallDisplay\n",
    "\n",
    "# Format Notebook\n",
    "from IPython.display import display, HTML, display_html"
   ]
  },
  {
   "cell_type": "markdown",
   "id": "bbc1a117",
   "metadata": {},
   "source": [
    "<div id=\"chapter2.1\" class=\"my-h2\">2.1 Load Data</div>"
   ]
  },
  {
   "cell_type": "code",
   "execution_count": null,
   "id": "4a6ef0f9",
   "metadata": {},
   "outputs": [],
   "source": [
    "df = pd.read_csv('data.csv')\n",
    "df.sample(5)"
   ]
  },
  {
   "cell_type": "markdown",
   "id": "71512b8d",
   "metadata": {},
   "source": [
    "<div id=\"chapter2.2\" class=\"my-h2 centered\">2.2 Univariate Non-graphical EDA</div>"
   ]
  },
  {
   "cell_type": "markdown",
   "id": "db2934c4",
   "metadata": {},
   "source": [
    "<div class=\"my-body\">The primary objective of univariate non-graphical exploratory data analysis is to gain a better understanding of the \"sample distribution\" and draw preliminary conclusions regarding which population distribution(s) may be compatible with the sample distribution. The identification of outliers is also a significant component of this analysis.</div>\n",
    "<div class=\"my-body\">With the <span class=\"my-code\">info()</span> function, the following questions can be answered about the dataset:\n",
    "\n",
    "- How many rows?\n",
    "- How many columns?\n",
    "- What is the type of each column?\n",
    "- How many missing values?\n",
    "</div>"
   ]
  },
  {
   "cell_type": "code",
   "execution_count": null,
   "id": "5d826d1d",
   "metadata": {},
   "outputs": [],
   "source": [
    "df.info()"
   ]
  },
  {
   "cell_type": "code",
   "execution_count": null,
   "id": "87d94eb1",
   "metadata": {},
   "outputs": [],
   "source": [
    "# How many values are duplicated?\n",
    "df.duplicated().sum()"
   ]
  },
  {
   "cell_type": "markdown",
   "id": "d189ef7d",
   "metadata": {},
   "source": [
    "<div class=\"my-body\">In order to streamline the analysis, the columns labeled as \"id\", \"date\", and \"zipcode\" are excluded from the dataset, as they are not deemed relevant to the research objectives. \n",
    "<br><br>\n",
    "    <span style=\"font-weight:400\">Note:</span> While the date of sale effect house sale prices, the present analysis does not consider this possibility. For instance, the sales of houses may show different trends in pricing according to certain days of the week, months, or seasons, but such factors are not taken into account in this project.\n",
    "</div>"
   ]
  },
  {
   "cell_type": "code",
   "execution_count": null,
   "id": "3f6e74b5",
   "metadata": {},
   "outputs": [],
   "source": [
    "df.drop([ \"id\", \"date\", \"zipcode\"],axis=1,inplace=True)\n",
    "df.head()"
   ]
  },
  {
   "cell_type": "markdown",
   "id": "f14d801c",
   "metadata": {},
   "source": [
    "<div class=\"my-body\">The <span class=\"my-code\">describe()</span> function generates a summary of descriptive statistics for a dataset, providing information on its central tendency, dispersion, and distribution shape, while excluding NaN values.</div>"
   ]
  },
  {
   "cell_type": "code",
   "execution_count": null,
   "id": "fce1c59b",
   "metadata": {},
   "outputs": [],
   "source": [
    "df.describe()"
   ]
  },
  {
   "cell_type": "markdown",
   "id": "926e8810",
   "metadata": {},
   "source": [
    "Tabluating Frequencies"
   ]
  },
  {
   "cell_type": "code",
   "execution_count": null,
   "id": "0baf89f4",
   "metadata": {},
   "outputs": [],
   "source": [
    "df['bathrooms'].value_counts(normalize=True).to_frame()*100"
   ]
  },
  {
   "cell_type": "code",
   "execution_count": null,
   "id": "bc018a00",
   "metadata": {},
   "outputs": [],
   "source": [
    "import pandas as pd\n",
    "from IPython.display import HTML\n",
    "\n",
    "def side_by_side(*dfs):\n",
    "    html = '<div style=\"display:flex\">'\n",
    "    for df in dfs:\n",
    "        html += '<div style=\"margin-right: 2em\">'\n",
    "        html += df.to_html()\n",
    "        html += '</div>'\n",
    "    html += '</div>'\n",
    "    display(HTML(html))\n",
    "\n",
    "for column in df:\n",
    "    df[column].value_counts(normalize=True).to_frame()*100\n",
    "    \n",
    "    \n",
    "df1=df['bathrooms'].value_counts().to_frame()\n",
    "df2=df['bathrooms'].value_counts(normalize=True).to_frame()*100\n",
    "df3= pd.crosstab(index=df['bathrooms'], columns='count')\n",
    "\n",
    "side_by_side(df1,df2,df3)"
   ]
  },
  {
   "cell_type": "code",
   "execution_count": null,
   "id": "55d0db70",
   "metadata": {},
   "outputs": [],
   "source": [
    "df5 = df.bathrooms.map(df.bathrooms.value_counts())\n",
    "df5.to_frame()"
   ]
  },
  {
   "cell_type": "code",
   "execution_count": null,
   "id": "ed589530",
   "metadata": {},
   "outputs": [],
   "source": [
    "index, counts = np.unique(df.values,return_counts=True)\n",
    "counts"
   ]
  },
  {
   "cell_type": "code",
   "execution_count": null,
   "id": "bae4a668",
   "metadata": {},
   "outputs": [],
   "source": [
    "#define crosstab\n",
    "tab = pd.crosstab(index=df['bathrooms'], columns='count')\n",
    "\n",
    "#find proportions \n",
    "tab*100/tab.sum()"
   ]
  },
  {
   "cell_type": "markdown",
   "id": "775d518f",
   "metadata": {},
   "source": [
    "<div id=\"chapter2.3\" class=\"my-h2 centered\">2.3 Univariate Graphical EDA</div>"
   ]
  },
  {
   "cell_type": "markdown",
   "id": "439b1591",
   "metadata": {},
   "source": [
    "<div class=\"my-h4\">2.3.1 Histograms</div>"
   ]
  },
  {
   "cell_type": "markdown",
   "id": "bbfa75ac",
   "metadata": {},
   "source": [
    "<div class=\"my-body\">Histograms are one of the best ways to quickly learn a lot about the data, including central tendency, spread, modality, shape and outliers.</div>"
   ]
  },
  {
   "cell_type": "code",
   "execution_count": null,
   "id": "bb159d66",
   "metadata": {},
   "outputs": [],
   "source": [
    "n_rows=6\n",
    "n_cols=3\n",
    "\n",
    "# Creating the subplots\n",
    "fig, axes = plt.subplots(nrows=n_rows, ncols=n_cols, figsize = (20, 30))\n",
    "\n",
    "for i, column in enumerate(df.columns):\n",
    "    sns.histplot(df[column],\n",
    "                 ax=axes[i//n_cols,i%n_cols], \n",
    "                 kde = True, \n",
    "                 color = \"#36c1cd\").set(xlabel=None, title = column)"
   ]
  },
  {
   "cell_type": "markdown",
   "id": "d515d17c",
   "metadata": {},
   "source": [
    "<div class=\"my-body\" style=\"font-weight:800\">Observations:<br></div>\n",
    "<div class=\"my-body\">\n",
    "     - Continous variables, such as <span class=\"my-code\">price</span> and <span class=\"my-code\">sqft_living</span> are  uniformly distributed and show a bell-shaped curvature. Also, they show strong positive skew and the kurtosis reflects the heavy right tailed-ness. The heavy tailed distributions signal that the median is a better indicator of central tendency over mean.\n",
    "    <br>- Waterfront properties are almost non-existent, surprising for a coastal county.\n",
    "    <br>- The histogram shows notable observations for <span class=\"my-code\">yr_renovated</span> , with around 20,000 properties never renovated and only 2,000 renovated. This suggests a binary value (0 for \"no renovations\" and 1 for \"at least one renovation\") would better represent this variable.\n",
    "    </div>"
   ]
  },
  {
   "cell_type": "markdown",
   "id": "e8199106",
   "metadata": {},
   "source": [
    "<div class=\"my-h4\">2.3.2 Boxplots</div>"
   ]
  },
  {
   "cell_type": "markdown",
   "id": "d4eb592b",
   "metadata": {},
   "source": [
    "<div class=\"my-body\">Boxplots are preferred for EDA as they utilize robust statistics such as median and IQR instead of more sensitive ones like mean and standard deviation. This makes it simple to compare distributions with a higher level of confidence.\n",
    "</div>"
   ]
  },
  {
   "cell_type": "code",
   "execution_count": null,
   "id": "e3746956",
   "metadata": {},
   "outputs": [],
   "source": [
    "plot_rows=9\n",
    "plot_cols=2\n",
    "fig = make_subplots(rows=plot_rows, cols=plot_cols)\n",
    "\n",
    "# Add traces\n",
    "x = 0\n",
    "for i in range(1, plot_rows + 1):\n",
    "    for j in range(1, plot_cols + 1):\n",
    "        fig.add_trace(go.Box(y=df[df.columns[x]].values,\n",
    "                                 name = df.columns[x]),\n",
    "                     row=i,\n",
    "                     col=j)\n",
    "        x=x+1\n",
    "\n",
    "# Format and show fig\n",
    "fig.update_layout(height=1500, width=1000)\n",
    "fig.show()"
   ]
  },
  {
   "cell_type": "markdown",
   "id": "7ecfed9f",
   "metadata": {},
   "source": [
    "<div class=\"my-body\" style=\"font-weight:800\">Observations:</div>\n",
    "<div class=\"my-body\">\n",
    "The dataset contains a substantial number of outliers, indicating the presence of extreme values in certain variables. Considering the nature of the data, it is expected to observe numerous outliers, especially in the case of luxurious houses where prices significantly exceed the average. As a result, it is deemed appropriate to retain these outliers in the analysis and not remove them.\n",
    "    </div>"
   ]
  },
  {
   "cell_type": "markdown",
   "id": "e8f65c0a",
   "metadata": {},
   "source": [
    "# QQ Plot!"
   ]
  },
  {
   "attachments": {},
   "cell_type": "markdown",
   "id": "85b908cf",
   "metadata": {},
   "source": [
    "the high end points are shifted too high and the low end points\n",
    "are shifted too low. These data show a positive kurtosis (fat tails). The opposite\n",
    "pattern is a negative kurtosis in which the tails are too “thin” to be bell shaped."
   ]
  },
  {
   "cell_type": "markdown",
   "id": "77d40b24",
   "metadata": {},
   "source": [
    "<div>\n",
    "<img src=\"img/kurtosis_QQ.png\" width=\"700\"/>\n",
    "</div><div style=\"text-align:center;font-family:'Open Sans';font-size:100%;font-weight:100;\">Credits: <a href=\"https://www.investopedia.com/terms/l/leptokurtic.asp\">Investopedia</a></div>"
   ]
  },
  {
   "cell_type": "code",
   "execution_count": null,
   "id": "ca3bf80c",
   "metadata": {},
   "outputs": [],
   "source": []
  },
  {
   "cell_type": "markdown",
   "id": "eb58b476",
   "metadata": {},
   "source": [
    "<div id=\"chapter2.4\" class=\"my-h2 centered\">2.4 Multivariate Non-graphical EDA</div>"
   ]
  },
  {
   "cell_type": "code",
   "execution_count": null,
   "id": "e70d24e7",
   "metadata": {},
   "outputs": [],
   "source": []
  },
  {
   "cell_type": "code",
   "execution_count": null,
   "id": "9548e553",
   "metadata": {},
   "outputs": [],
   "source": []
  },
  {
   "cell_type": "code",
   "execution_count": null,
   "id": "6c0e57a3",
   "metadata": {},
   "outputs": [],
   "source": [
    "# Import Stylesheet for Jupyter Notebook\n",
    "from IPython.display import HTML\n",
    "HTML('<style>{}</style>'.format(open('custom/styles.css').read()))"
   ]
  },
  {
   "cell_type": "markdown",
   "id": "52b4954c",
   "metadata": {},
   "source": [
    "<div id=\"chapter2.5\" class=\"my-h2 centered\">2.5 Multivariate Graphical EDA</div>"
   ]
  },
  {
   "cell_type": "markdown",
   "id": "f790b5d2",
   "metadata": {},
   "source": [
    "Boxplot with price vs (Quality, sqft, )\n",
    "\n",
    "id             21613 non-null  int64  \n",
    " 1   date           21613 non-null  object \n",
    " 2   price          21613 non-null  float64\n",
    " 3   bedrooms       21613 non-null  int64  \n",
    " 4   bathrooms      21613 non-null  float64\n",
    " 5   sqft_living    21613 non-null  int64  \n",
    " 6   sqft_lot       21613 non-null  int64  \n",
    " 7   floors         21613 non-null  float64\n",
    " 8   waterfront     21613 non-null  int64  \n",
    " 9   view           21613 non-null  int64  \n",
    " 10  condition      21613 non-null  int64  \n",
    " 11  grade          21613 non-null  int64  \n",
    " 12  sqft_above     21613 non-null  int64  \n",
    " 13  sqft_basement  21613 non-null  int64  \n",
    " 14  yr_built       21613 non-null  int64  \n",
    " 15  yr_renovated   21613 non-null  int64  \n",
    " 16  zipcode        21613 non-null  int64  \n",
    " 17  lat            21613 non-null  float64\n",
    " 18  long           21613 non-null  float64\n",
    " 19  sqft_living15  21613 non-null  int64  \n",
    " 20  sqft_lot15     21613 non-null  int64  "
   ]
  },
  {
   "cell_type": "code",
   "execution_count": null,
   "id": "32602e41",
   "metadata": {},
   "outputs": [],
   "source": [
    "fig = px.box(df, x=\"grade\", y=\"price\", points=\"all\")\n",
    "fig.show()"
   ]
  },
  {
   "cell_type": "code",
   "execution_count": null,
   "id": "f12af826",
   "metadata": {},
   "outputs": [],
   "source": []
  }
 ],
 "metadata": {
  "kernelspec": {
   "display_name": "Python 3 (ipykernel)",
   "language": "python",
   "name": "python3"
  },
  "language_info": {
   "codemirror_mode": {
    "name": "ipython",
    "version": 3
   },
   "file_extension": ".py",
   "mimetype": "text/x-python",
   "name": "python",
   "nbconvert_exporter": "python",
   "pygments_lexer": "ipython3",
   "version": "3.9.13"
  }
 },
 "nbformat": 4,
 "nbformat_minor": 5
}
